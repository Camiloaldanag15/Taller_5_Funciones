{
 "cells": [
  {
   "cell_type": "markdown",
   "id": "66beb5a1",
   "metadata": {},
   "source": [
    "# Fundamentos de Programación para Ingeniería Mecánica\n",
    "## UPB Montería - 202310\n",
    "### Taller 5: Funciones y Estructuras de Datos\n",
    "- Docente: Miguel Ortiz (miguel.ortizp@upb.edu.co)"
   ]
  },
  {
   "cell_type": "markdown",
   "id": "b4381f55",
   "metadata": {},
   "source": [
    "Datos del Estudiante:\n",
    "- Nombre: Camilo José Aldana García\n",
    "- ID: 000480904\n",
    "- email: camilo.aldanag@upb.edu.co"
   ]
  },
  {
   "cell_type": "markdown",
   "id": "433f35a0",
   "metadata": {},
   "source": [
    "> Resuelva los siguientes ejercicios utilizando **Funciones, Listas y Diccionarios**."
   ]
  },
  {
   "cell_type": "markdown",
   "id": "aead929b",
   "metadata": {},
   "source": [
    "### Problema 1: Discurso Político (150xp)\n",
    "\n",
    "Diseñe el algoritmo y escriba un código en lenguaje de programación Python para generar discursos políticos aleatorios, teniendo en cuenta la siguiente imagen:\n",
    "\n",
    "![componentes de un discurso](discurso.png)\n",
    "\n",
    "Para ello, debe solicitar al usuario el nombre del candidato, un presupuesto general, y tres (3) porcentajes que representen los dineros que destinará a diferentes sectores seleccionados de forma aleatoria (lista de beneficio populista).\n",
    "\n",
    "Crea una función sin parámetros que retorne un string con el mensaje político. Dentro de la función deben aparecer los inputs para solicitar información al usuario. Guarda el mensaje creado por la función en una variable llamada `mensaje_politico` e imprime su valor en consola. \n",
    "\n",
    "**Ejemplo:**\n",
    "\n",
    "```\n",
    ">>> Entradas:\n",
    "Ingrese nombre del candidato: Chocolove McDonell\n",
    "Ingrese presupuesto (en millones de pesos): 1250\n",
    "Ingrese Porcentaje 1: 25\n",
    "Ingrese Porcentaje 2: 30\n",
    "Ingrese Porcentaje 3: 45\n",
    ">>> Salidas:\n",
    "Estimados copartidarios. \n",
    "Mi nombre es Chocolove McDonell y hoy vengo a decirles que, con su ayuda combatiré el desplazamiento y promoveré la educación de cada colombiano. Y es por eso que hoy he venido a proponerles invertir $1250.0 millones de pesos de la siguiente manera: \n",
    " - $312.5 millones de pesos en el empleo \n",
    " - $375.0 millones de pesos en la educación \n",
    " - $562.5 millones de pesos en la salud \n",
    "```\n",
    "\n",
    "**Nota:** para seleccionar un elemento aleatorio de una lista puede utilizar la función `choice()` de la librería random:\n",
    "\n",
    "```python\n",
    "import random\n",
    "random.choice([1, 2, 3])\n",
    "```\n",
    "\n",
    "**Recomendación:** cree las variables sin acento (tildes) y en minúsculas. "
   ]
  },
  {
   "cell_type": "code",
   "execution_count": 4,
   "id": "a78382aa",
   "metadata": {},
   "outputs": [
    {
     "name": "stdout",
     "output_type": "stream",
     "text": [
      "Ingrese el nombre del candidato: Camilo Aldana\n",
      "Ingrese presupuesto (en millones de pesos): 1250\n",
      "Ingrese Porcentaje 1: 25\n",
      "Ingrese Porcentaje 2: 30\n",
      "Ingrese Porcentaje 3: 45\n",
      "Respetados copartidarios. Mi nombre es Camilo Aldana y hoy vengo a decirles que, si me siguen acabaré el desplazamiento y protegeré el empleo para toda la gente. Y es por eso que hoy he venido a proponerles invertir $1250.0 millones de pesos de la siguiente manera: \n"
     ]
    },
    {
     "ename": "NameError",
     "evalue": "name 'valor_1' is not defined",
     "output_type": "error",
     "traceback": [
      "\u001b[1;31m---------------------------------------------------------------------------\u001b[0m",
      "\u001b[1;31mNameError\u001b[0m                                 Traceback (most recent call last)",
      "Cell \u001b[1;32mIn[4], line 49\u001b[0m\n\u001b[0;32m     44\u001b[0m         mensaje_politico \u001b[38;5;241m+\u001b[39m\u001b[38;5;241m=\u001b[39m random\u001b[38;5;241m.\u001b[39mchoice(values)\n\u001b[0;32m     47\u001b[0m \u001b[38;5;28mprint\u001b[39m(mensaje_politico)\n\u001b[1;32m---> 49\u001b[0m \u001b[38;5;28mprint\u001b[39m(\u001b[38;5;124m'\u001b[39m\u001b[38;5;124m- $\u001b[39m\u001b[38;5;124m'\u001b[39m \u001b[38;5;241m+\u001b[39m \u001b[38;5;28mstr\u001b[39m(\u001b[43mvalor_1\u001b[49m) \u001b[38;5;241m+\u001b[39m \u001b[38;5;124m'\u001b[39m\u001b[38;5;124m millones de pesos en el empleo.\u001b[39m\u001b[38;5;124m'\u001b[39m)\n\u001b[0;32m     50\u001b[0m \u001b[38;5;28mprint\u001b[39m(\u001b[38;5;124m'\u001b[39m\u001b[38;5;124m- $\u001b[39m\u001b[38;5;124m'\u001b[39m \u001b[38;5;241m+\u001b[39m \u001b[38;5;28mstr\u001b[39m(valor_2) \u001b[38;5;241m+\u001b[39m \u001b[38;5;124m'\u001b[39m\u001b[38;5;124m millones de pesos en la educacion.\u001b[39m\u001b[38;5;124m'\u001b[39m)\n\u001b[0;32m     51\u001b[0m \u001b[38;5;28mprint\u001b[39m(\u001b[38;5;124m'\u001b[39m\u001b[38;5;124m- $\u001b[39m\u001b[38;5;124m'\u001b[39m \u001b[38;5;241m+\u001b[39m \u001b[38;5;28mstr\u001b[39m(valor_3) \u001b[38;5;241m+\u001b[39m \u001b[38;5;124m'\u001b[39m\u001b[38;5;124m millones de pesos en la salud.\u001b[39m\u001b[38;5;124m'\u001b[39m)\n",
      "\u001b[1;31mNameError\u001b[0m: name 'valor_1' is not defined"
     ]
    }
   ],
   "source": [
    "## PROBLEMA 1\n",
    "\n",
    "\n",
    "name_candidato = input(\"Ingrese el nombre del candidato: \")\n",
    "presupuesto = float(input(\"Ingrese presupuesto (en millones de pesos): \"))\n",
    "porc_1 = float(input(\"Ingrese Porcentaje 1: \")) /100\n",
    "porc_2 = float(input(\"Ingrese Porcentaje 2: \")) /100\n",
    "porc_3 = float(input(\"Ingrese Porcentaje 3: \")) /100\n",
    "titulo = ['Queridos ', 'Apreciados ', 'Distinguidos ', 'Honorables ', 'Estimados ', 'Respetados ']\n",
    "publico_objetivo = ['compatriotas.', 'copartidarios.', 'amigos.', 'coterráneos.', 'conciudadanos.', 'electores.']\n",
    "minombre = [' Mi nombre es ']\n",
    "candidato = [str(name_candidato)]\n",
    "frase_1 = [' y hoy vengo a decirles que, ']\n",
    "condicion = ['en mi gobierno ', 'con su apoyo ', 'siendo elegido', 'con su ayuda ', 'si me siguen ', 'durante mi mandato ']\n",
    "compromiso = ['voy a derrotar ', 'venceré', 'eliminaré ', 'acabaré ', 'lucharé contra ', 'combatiré ']\n",
    "ilusion_de_lucha = ['la violencia y ', 'la delincuencia y ', 'la corrupción y ', 'la inflación y ', 'la pobreza y ', 'el desplazamiento y ']\n",
    "promesa = ['trabajaré por ', 'garantizaré ', 'protegeré ', 'velaré por ', 'promoveré ', 'defenderé ']\n",
    "beneficio_populista = ['la educación ', 'el empleo ', 'la seguridad ', 'la paz ', 'la igualdad ', 'la salud ']\n",
    "dep_cantidad_votos = ['del país.', 'de la ciudad.', 'de la comunidad.', 'de la población.', 'para toda la gente.', 'de cada colombiano.']\n",
    "frase_2 = [' Y es por eso que hoy he venido a proponerles invertir $']\n",
    "inversion = [str(presupuesto)]\n",
    "millones = [' millones de pesos de la siguiente manera: ']\n",
    "\n",
    "def valores(presupuesto, porcentaje):\n",
    "    \n",
    "    for porc_1, presupuesto in porcentaje, presupueto:\n",
    "        valor_1 = porc_1 * presupuesto\n",
    "    for porc_2, presupuesto in porcentaje, presupueto:\n",
    "        valor_2 = porc_2 * presupuesto\n",
    "    for porc_3, presupuesto in porcentaje, presupueto:\n",
    "        valor_3 = porc_3 * presupuesto\n",
    "        \n",
    "        \n",
    "        \n",
    "\n",
    "discurso_dict = {1:titulo, 2:publico_objetivo, 3:minombre, 4:candidato, 5:frase_1, 6:condicion, 7:compromiso, 8:ilusion_de_lucha, 9: promesa, 10:beneficio_populista, 11:dep_cantidad_votos, 12:frase_2, 13:inversion, 14:millones}\n",
    "\n",
    "mensaje_politico = ''\n",
    "\n",
    "import random\n",
    "lines = 1\n",
    "for i in range(lines):\n",
    "    for values in discurso_dict.values():\n",
    "        mensaje_politico += random.choice(values)\n",
    "        \n",
    "\n",
    "print(mensaje_politico)\n",
    "\n",
    "print('- $' + str(valor_1) + ' millones de pesos en el empleo.')\n",
    "print('- $' + str(valor_2) + ' millones de pesos en la educacion.')\n",
    "print('- $' + str(valor_3) + ' millones de pesos en la salud.')"
   ]
  },
  {
   "cell_type": "code",
   "execution_count": null,
   "id": "a78f94a7",
   "metadata": {},
   "outputs": [],
   "source": []
  }
 ],
 "metadata": {
  "kernelspec": {
   "display_name": "Python 3 (ipykernel)",
   "language": "python",
   "name": "python3"
  },
  "language_info": {
   "codemirror_mode": {
    "name": "ipython",
    "version": 3
   },
   "file_extension": ".py",
   "mimetype": "text/x-python",
   "name": "python",
   "nbconvert_exporter": "python",
   "pygments_lexer": "ipython3",
   "version": "3.11.2"
  }
 },
 "nbformat": 4,
 "nbformat_minor": 5
}
